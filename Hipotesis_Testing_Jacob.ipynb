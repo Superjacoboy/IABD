{
  "nbformat": 4,
  "nbformat_minor": 0,
  "metadata": {
    "colab": {
      "provenance": []
    },
    "kernelspec": {
      "name": "python3",
      "display_name": "Python 3"
    },
    "language_info": {
      "name": "python"
    }
  },
  "cells": [
    {
      "cell_type": "markdown",
      "source": [
        "Nos centramos solo en los jugadores importantes ( más de 27 min por partido)\n",
        "\n",
        "- Me da la sensación de que durante este curso los jugadores importantes están metiendo muchísimos puntos, creo que alrededor de unos 18ppp, compruébalo.\n",
        "\n",
        "- Además me da la sensación de que los jugadores jóvenes sub 27 están dando un paso adelante y meten más puntos que los mayores.\n",
        "\n",
        "- Me gustaría comprobar  si hay diferencia entre posiciones, y cual son en las posiciones en las que los jugadores meten más puntos.\n",
        "\n",
        "- ¿Se están metiendo más puntos de media por jugador que respecto al año anterior?"
      ],
      "metadata": {
        "id": "rKtId5Gbe3WF"
      }
    },
    {
      "cell_type": "code",
      "execution_count": 1,
      "metadata": {
        "colab": {
          "base_uri": "https://localhost:8080/"
        },
        "id": "b9iYSBSYeL3f",
        "outputId": "86acd70e-c2db-4cd2-e704-a85fafabe2d3"
      },
      "outputs": [
        {
          "output_type": "stream",
          "name": "stdout",
          "text": [
            "483\n"
          ]
        }
      ],
      "source": [
        "import pandas as pd\n",
        "import numpy as np\n",
        "\n",
        "df_nba = pd.read_csv('NBA_Stats.csv')\n",
        "print(len(df_nba))\n"
      ]
    },
    {
      "cell_type": "code",
      "source": [
        "#df_nba['MPG'] = df_nba['MPG'].astype(float)\n",
        "df_nba_titu = df_nba[df_nba['MPG'] > 27.0]\n",
        "print(len(df_nba_titu))"
      ],
      "metadata": {
        "colab": {
          "base_uri": "https://localhost:8080/"
        },
        "id": "ZGkJ6OLieqJv",
        "outputId": "05fd626c-6d1e-4a72-f354-cb81b6150edb"
      },
      "execution_count": 2,
      "outputs": [
        {
          "output_type": "stream",
          "name": "stdout",
          "text": [
            "143\n"
          ]
        }
      ]
    },
    {
      "cell_type": "markdown",
      "source": [
        "Me da la sensación de que durante este curso los jugadores importantes están metiendo muchísimos puntos, creo que alrededor de unos 18ppp, compruébalo."
      ],
      "metadata": {
        "id": "FUY7V26tjg4Z"
      }
    },
    {
      "cell_type": "code",
      "source": [
        "ppp = df_nba_titu['PPG'].mean()\n",
        "print(ppp)"
      ],
      "metadata": {
        "colab": {
          "base_uri": "https://localhost:8080/"
        },
        "id": "ZsyXJPjAgI79",
        "outputId": "7d69b64b-810c-49e8-e6b0-0992724a4699"
      },
      "execution_count": 3,
      "outputs": [
        {
          "output_type": "stream",
          "name": "stdout",
          "text": [
            "17.26153846153846\n"
          ]
        }
      ]
    },
    {
      "cell_type": "markdown",
      "source": [
        "Me da 17,26, muy cerca de 18. Asi que podemos decir que si están metiendo bastantes puntos."
      ],
      "metadata": {
        "id": "lFaSCjDwhUVj"
      }
    },
    {
      "cell_type": "markdown",
      "source": [
        "# Además me da la sensación de que los jugadores jóvenes sub 27 están dando un paso adelante y meten más puntos que los mayores.\n",
        "\n"
      ],
      "metadata": {
        "id": "p78pZnM2jcC4"
      }
    },
    {
      "cell_type": "code",
      "source": [
        "sub_27 = df_nba_titu[df_nba_titu['AGE'] < 27]['PPG']\n",
        "mas_27 = df_nba_titu[df_nba_titu['AGE'] >= 27]['PPG']\n",
        "\n",
        "print(sub_27.mean())\n",
        "print(mas_27.mean())\n"
      ],
      "metadata": {
        "colab": {
          "base_uri": "https://localhost:8080/"
        },
        "id": "zoyisux5hOOG",
        "outputId": "f0742b70-887d-411b-fb50-2e7023959a9b"
      },
      "execution_count": 4,
      "outputs": [
        {
          "output_type": "stream",
          "name": "stdout",
          "text": [
            "17.012500000000003\n",
            "17.514084507042252\n"
          ]
        }
      ]
    },
    {
      "cell_type": "code",
      "source": [
        "! pip install pingouin"
      ],
      "metadata": {
        "id": "DzAee4kwi28j"
      },
      "execution_count": null,
      "outputs": []
    },
    {
      "cell_type": "code",
      "source": [
        "import pingouin as pg\n",
        "\n",
        "test_result = pg.ttest(sub_27,mas_27, alternative='greater')\n",
        "\n",
        "print(test_result)"
      ],
      "metadata": {
        "colab": {
          "base_uri": "https://localhost:8080/"
        },
        "id": "DsEF2_Opi7cI",
        "outputId": "bf0cb925-b376-4a47-8837-25acb5701d68"
      },
      "execution_count": 6,
      "outputs": [
        {
          "output_type": "stream",
          "name": "stdout",
          "text": [
            "               T         dof alternative    p-val         CI95%   cohen-d  \\\n",
            "T-test -0.487545  139.144026     greater  0.68668  [-2.21, inf]  0.081601   \n",
            "\n",
            "         BF10     power  \n",
            "T-test  0.401  0.016569  \n"
          ]
        }
      ]
    },
    {
      "cell_type": "markdown",
      "source": [
        "Como podemos ver, falla ya que supera al 5%.\n",
        "Al comparar con greater sub_27 con mas_27, compara si sub_27 es mas alto que mas_27, si fuera cierto nos daría 0.05 o menor como resultado en p-val. Pero al ser mayor falla. Por lo tanto mas_27 mete más puntos"
      ],
      "metadata": {
        "id": "KjLv6GaalIcd"
      }
    },
    {
      "cell_type": "markdown",
      "source": [
        "# Me gustaría comprobar si hay diferencia entre posiciones, y cual son en las posiciones en las que los jugadores meten más puntos."
      ],
      "metadata": {
        "id": "lS3GBOabjk4x"
      }
    },
    {
      "cell_type": "code",
      "source": [
        "#df_nba_c = df_nba.loc[df_nba['POS'].str.contains('C')]['PPG']\n",
        "pos_C = df_nba_titu[df_nba_titu['POS'] == 'C']['PPG']\n",
        "pos_F = df_nba_titu[df_nba_titu['POS'] == 'F']['PPG']\n",
        "pos_G = df_nba_titu[df_nba_titu['POS'] == 'G']['PPG']\n",
        "pos_GF = df_nba_titu[df_nba_titu['POS'] == 'G-F']['PPG']\n",
        "\n",
        "print(pos_C.mean())\n",
        "print(pos_F.mean())\n",
        "print(pos_G.mean())\n",
        "print(pos_GF.mean())"
      ],
      "metadata": {
        "colab": {
          "base_uri": "https://localhost:8080/"
        },
        "id": "GtxSpd7-joOA",
        "outputId": "f076f66d-ca24-47b8-d070-38fd29ce089b"
      },
      "execution_count": 7,
      "outputs": [
        {
          "output_type": "stream",
          "name": "stdout",
          "text": [
            "16.778947368421054\n",
            "17.09818181818182\n",
            "17.532835820895528\n",
            "18.2\n"
          ]
        }
      ]
    },
    {
      "cell_type": "markdown",
      "source": [
        "La posicion que mas acierta es la G-F."
      ],
      "metadata": {
        "id": "0fOVyon2sJ_9"
      }
    },
    {
      "cell_type": "code",
      "source": [
        "anova_result = pg.anova(data=df_nba_titu,dv='PPG',between='POS')\n",
        "\n",
        "print(anova_result)"
      ],
      "metadata": {
        "colab": {
          "base_uri": "https://localhost:8080/"
        },
        "id": "E4btGy2YoNRU",
        "outputId": "980ed425-7549-4f7e-a91e-06fdc718fc6c"
      },
      "execution_count": 8,
      "outputs": [
        {
          "output_type": "stream",
          "name": "stdout",
          "text": [
            "  Source  ddof1  ddof2         F     p-unc       np2\n",
            "0    POS      4    138  0.081843  0.987842  0.002367\n"
          ]
        }
      ]
    },
    {
      "cell_type": "markdown",
      "source": [
        "# ¿Se están metiendo más puntos de media por jugador que respecto al año anterior?"
      ],
      "metadata": {
        "id": "MPgGI-05ruh0"
      }
    },
    {
      "cell_type": "code",
      "source": [
        "df_nba_22_23 = pd.read_csv('NBA_Stats_22_23.csv')\n",
        "print(len(df_nba_22_23))"
      ],
      "metadata": {
        "colab": {
          "base_uri": "https://localhost:8080/"
        },
        "id": "bAZLTZQwrzbE",
        "outputId": "896c8a52-9d39-4872-97a7-d0811115fd7d"
      },
      "execution_count": 9,
      "outputs": [
        {
          "output_type": "stream",
          "name": "stdout",
          "text": [
            "609\n"
          ]
        }
      ]
    },
    {
      "cell_type": "code",
      "source": [
        "media_22_23 = df_nba_22_23['PPG']\n",
        "media_23_24 = df_nba['PPG']\n",
        "print(media_22_23.mean())\n",
        "print(media_23_24.mean())"
      ],
      "metadata": {
        "colab": {
          "base_uri": "https://localhost:8080/"
        },
        "id": "cM6KqNI3ri2S",
        "outputId": "4e773cc4-e414-46a4-badd-0546cc38025d"
      },
      "execution_count": 15,
      "outputs": [
        {
          "output_type": "stream",
          "name": "stdout",
          "text": [
            "8.950903119868636\n",
            "8.595652173913043\n"
          ]
        }
      ]
    },
    {
      "cell_type": "markdown",
      "source": [
        "Como podemos ver, la media de puntos del año pasado era superior a la de este."
      ],
      "metadata": {
        "id": "dlUuFeYir2cj"
      }
    },
    {
      "cell_type": "code",
      "source": [
        "result = pg.ttest(media_22_23,media_23_24, alternative='two-sided')\n",
        "print(result)"
      ],
      "metadata": {
        "colab": {
          "base_uri": "https://localhost:8080/"
        },
        "id": "MwZ92bqqr65O",
        "outputId": "9a900bda-2fe8-49c8-df1c-ae85dd17cfe3"
      },
      "execution_count": 17,
      "outputs": [
        {
          "output_type": "stream",
          "name": "stdout",
          "text": [
            "               T         dof alternative     p-val         CI95%   cohen-d  \\\n",
            "T-test  0.828811  999.479829   two-sided  0.407409  [-0.49, 1.2]  0.050906   \n",
            "\n",
            "         BF10     power  \n",
            "T-test  0.096  0.132846  \n"
          ]
        }
      ]
    },
    {
      "cell_type": "markdown",
      "source": [
        "# Creemos que los jugadores más veteranos, mayores de 27 años, tienen más capacidad de recuperar balones que los más jóvenes. Pero solo nos interesan los de la posición Pivot. Pordía ser cierto?\n"
      ],
      "metadata": {
        "id": "hyXJ7YQOxhSc"
      }
    },
    {
      "cell_type": "code",
      "source": [
        "df_nba_C = df_nba[df_nba['POS'] == 'C']\n",
        "nba_rpg_sub = df_nba_C[df_nba_C['AGE'] < 27]['RPG']\n",
        "nba_rpg_sup = df_nba_C[df_nba_C['AGE'] >= 27]['RPG']\n",
        "print(nba_rpg_sub.mean())\n",
        "print(nba_rpg_sup.mean())"
      ],
      "metadata": {
        "colab": {
          "base_uri": "https://localhost:8080/"
        },
        "id": "tcYmmqRfx1Nf",
        "outputId": "b602847e-caf1-43a1-cd84-8549f98d74c3"
      },
      "execution_count": 18,
      "outputs": [
        {
          "output_type": "stream",
          "name": "stdout",
          "text": [
            "5.793749999999999\n",
            "6.8875\n"
          ]
        }
      ]
    },
    {
      "cell_type": "markdown",
      "source": [
        "Como se puede ver es cierto, los jugadores mayores tienen más experiencia y obtienen mejor media"
      ],
      "metadata": {
        "id": "YL77Eqloy65_"
      }
    },
    {
      "cell_type": "code",
      "source": [
        "result = pg.ttest(nba_rpg_sub,nba_rpg_sup, alternative='greater')\n",
        "print(result)"
      ],
      "metadata": {
        "colab": {
          "base_uri": "https://localhost:8080/"
        },
        "id": "CR80nR81zEIV",
        "outputId": "e6d6c483-07b5-4fb7-b958-cdc520bbf553"
      },
      "execution_count": 21,
      "outputs": [
        {
          "output_type": "stream",
          "name": "stdout",
          "text": [
            "               T        dof alternative     p-val         CI95%   cohen-d  \\\n",
            "T-test -1.033075  45.637751     greater  0.846494  [-2.87, inf]  0.284612   \n",
            "\n",
            "         BF10     power  \n",
            "T-test  0.847  0.003618  \n"
          ]
        }
      ]
    }
  ]
}